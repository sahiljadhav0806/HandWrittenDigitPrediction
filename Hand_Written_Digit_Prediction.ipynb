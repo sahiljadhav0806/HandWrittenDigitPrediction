{
  "nbformat": 4,
  "nbformat_minor": 0,
  "metadata": {
    "colab": {
      "provenance": []
    },
    "kernelspec": {
      "name": "python3",
      "display_name": "Python 3"
    },
    "language_info": {
      "name": "python"
    }
  },
  "cells": [
    {
      "cell_type": "markdown",
      "source": [],
      "metadata": {
        "id": "2JAcpbaN3t-3"
      }
    },
    {
      "cell_type": "markdown",
      "source": [
        "# **Import Library**"
      ],
      "metadata": {
        "id": "_LceEKOm3xdW"
      }
    },
    {
      "cell_type": "code",
      "source": [
        "import pandas as pd\n",
        "import numpy as np\n",
        "import matplotlib.pyplot as plt"
      ],
      "metadata": {
        "id": "Mr6vtFFn36M7"
      },
      "execution_count": 2,
      "outputs": []
    },
    {
      "cell_type": "markdown",
      "source": [
        "# ***Import Data***"
      ],
      "metadata": {
        "id": "0GS11X0237sW"
      }
    },
    {
      "cell_type": "code",
      "source": [
        "from sklearn.datasets import load_digits"
      ],
      "metadata": {
        "id": "lg9PBSYg4MkT"
      },
      "execution_count": 4,
      "outputs": []
    },
    {
      "cell_type": "code",
      "source": [
        "df = load_digits()"
      ],
      "metadata": {
        "id": "dL8fk9uP4hJQ"
      },
      "execution_count": 5,
      "outputs": []
    },
    {
      "cell_type": "markdown",
      "source": [
        "# Describe Data"
      ],
      "metadata": {
        "id": "8vtXrBqh7noM"
      }
    },
    {
      "cell_type": "code",
      "source": [
        "_,axes = plt.subplots (nrows=1, ncols=4, figsize=(10, 3))\n",
        "for ax, image, label in zip(axes, df.images, df.target):\n",
        "  ax.set_axis_off()\n",
        "  ax.imshow(image, cmap=plt.cm.gray_r, interpolation=\"nearest\")\n",
        "  ax.set_title(\"Training: %i\" % label)"
      ],
      "metadata": {
        "colab": {
          "base_uri": "https://localhost:8080/",
          "height": 227
        },
        "id": "YCSYxTVF4hRc",
        "outputId": "c1c2112e-f351-46da-94a4-933ea11e6930"
      },
      "execution_count": 11,
      "outputs": [
        {
          "output_type": "display_data",
          "data": {
            "text/plain": [
              "<Figure size 1000x300 with 4 Axes>"
            ],
            "image/png": "[encoded data removed]"
          },
          "metadata": {}
        }
      ]
    },
    {
      "cell_type": "markdown",
      "source": [
        "# Data Visualization"
      ],
      "metadata": {
        "id": "6RXDtoCr8FuW"
      }
    },
    {
      "cell_type": "code",
      "source": [
        "df.images.shape"
      ],
      "metadata": {
        "colab": {
          "base_uri": "https://localhost:8080/"
        },
        "id": "JQbjroPx8hHh",
        "outputId": "3edcfcce-ee1d-4838-b5b6-5c621894a667"
      },
      "execution_count": 13,
      "outputs": [
        {
          "output_type": "execute_result",
          "data": {
            "text/plain": [
              "(1797, 8, 8)"
            ]
          },
          "metadata": {},
          "execution_count": 13
        }
      ]
    },
    {
      "cell_type": "code",
      "source": [
        "df.images[0]"
      ],
      "metadata": {
        "colab": {
          "base_uri": "https://localhost:8080/"
        },
        "id": "MT6bWhWD8rVi",
        "outputId": "83092b70-1332-44ca-ece8-0d9e053bfc7f"
      },
      "execution_count": 14,
      "outputs": [
        {
          "output_type": "execute_result",
          "data": {
            "text/plain": [
              "array([[ 0.,  0.,  5., 13.,  9.,  1.,  0.,  0.],\n",
              "       [ 0.,  0., 13., 15., 10., 15.,  5.,  0.],\n",
              "       [ 0.,  3., 15.,  2.,  0., 11.,  8.,  0.],\n",
              "       [ 0.,  4., 12.,  0.,  0.,  8.,  8.,  0.],\n",
              "       [ 0.,  5.,  8.,  0.,  0.,  9.,  8.,  0.],\n",
              "       [ 0.,  4., 11.,  0.,  1., 12.,  7.,  0.],\n",
              "       [ 0.,  2., 14.,  5., 10., 12.,  0.,  0.],\n",
              "       [ 0.,  0.,  6., 13., 10.,  0.,  0.,  0.]])"
            ]
          },
          "metadata": {},
          "execution_count": 14
        }
      ]
    },
    {
      "cell_type": "code",
      "source": [
        "len(df.images)"
      ],
      "metadata": {
        "colab": {
          "base_uri": "https://localhost:8080/"
        },
        "id": "Lmbwp7XA8852",
        "outputId": "b57e1215-0410-459c-cd14-938cc0047f9a"
      },
      "execution_count": 15,
      "outputs": [
        {
          "output_type": "execute_result",
          "data": {
            "text/plain": [
              "1797"
            ]
          },
          "metadata": {},
          "execution_count": 15
        }
      ]
    },
    {
      "cell_type": "code",
      "source": [
        "n_samples = len(df.images)\n",
        "data = df.images.reshape((n_samples,-1))"
      ],
      "metadata": {
        "id": "wynn720H89Is"
      },
      "execution_count": 18,
      "outputs": []
    },
    {
      "cell_type": "code",
      "source": [
        "data[0]"
      ],
      "metadata": {
        "colab": {
          "base_uri": "https://localhost:8080/"
        },
        "id": "28LQRER79J8h",
        "outputId": "19a07f86-c433-4303-cc27-db4e1062ab19"
      },
      "execution_count": 19,
      "outputs": [
        {
          "output_type": "execute_result",
          "data": {
            "text/plain": [
              "array([ 0.,  0.,  5., 13.,  9.,  1.,  0.,  0.,  0.,  0., 13., 15., 10.,\n",
              "       15.,  5.,  0.,  0.,  3., 15.,  2.,  0., 11.,  8.,  0.,  0.,  4.,\n",
              "       12.,  0.,  0.,  8.,  8.,  0.,  0.,  5.,  8.,  0.,  0.,  9.,  8.,\n",
              "        0.,  0.,  4., 11.,  0.,  1., 12.,  7.,  0.,  0.,  2., 14.,  5.,\n",
              "       10., 12.,  0.,  0.,  0.,  0.,  6., 13., 10.,  0.,  0.,  0.])"
            ]
          },
          "metadata": {},
          "execution_count": 19
        }
      ]
    },
    {
      "cell_type": "code",
      "source": [
        "data[0].shape"
      ],
      "metadata": {
        "colab": {
          "base_uri": "https://localhost:8080/"
        },
        "id": "eve9Dudl9WBX",
        "outputId": "8452980a-5b38-4b5b-cd20-ac685bdf636f"
      },
      "execution_count": 20,
      "outputs": [
        {
          "output_type": "execute_result",
          "data": {
            "text/plain": [
              "(64,)"
            ]
          },
          "metadata": {},
          "execution_count": 20
        }
      ]
    },
    {
      "cell_type": "code",
      "source": [
        "data.shape"
      ],
      "metadata": {
        "colab": {
          "base_uri": "https://localhost:8080/"
        },
        "id": "JfzC7_xF9gZn",
        "outputId": "1c56c8a7-68a4-4b17-efd3-d4bdf3412708"
      },
      "execution_count": 21,
      "outputs": [
        {
          "output_type": "execute_result",
          "data": {
            "text/plain": [
              "(1797, 64)"
            ]
          },
          "metadata": {},
          "execution_count": 21
        }
      ]
    },
    {
      "cell_type": "markdown",
      "source": [
        "# Data Preprocessing"
      ],
      "metadata": {
        "id": "SPLd6DYABPN_"
      }
    },
    {
      "cell_type": "code",
      "source": [
        "#Scaling Image Data\n",
        "data.min()"
      ],
      "metadata": {
        "colab": {
          "base_uri": "https://localhost:8080/"
        },
        "id": "WowRyasA9mIZ",
        "outputId": "297764b0-454b-4fcd-856f-f195c9096084"
      },
      "execution_count": 23,
      "outputs": [
        {
          "output_type": "execute_result",
          "data": {
            "text/plain": [
              "0.0"
            ]
          },
          "metadata": {},
          "execution_count": 23
        }
      ]
    },
    {
      "cell_type": "code",
      "source": [
        "data.max()"
      ],
      "metadata": {
        "colab": {
          "base_uri": "https://localhost:8080/"
        },
        "id": "W_SB1zUA9vy3",
        "outputId": "bc93cdf7-f15a-4e57-dd22-c249b6f7778b"
      },
      "execution_count": 24,
      "outputs": [
        {
          "output_type": "execute_result",
          "data": {
            "text/plain": [
              "16.0"
            ]
          },
          "metadata": {},
          "execution_count": 24
        }
      ]
    },
    {
      "cell_type": "code",
      "source": [
        "data = data/16"
      ],
      "metadata": {
        "id": "lO3Zyxvm90JC"
      },
      "execution_count": 25,
      "outputs": []
    },
    {
      "cell_type": "code",
      "source": [
        "data.min()"
      ],
      "metadata": {
        "colab": {
          "base_uri": "https://localhost:8080/"
        },
        "id": "Tvj3bOuT90Tn",
        "outputId": "7e83a7c9-0733-4533-f0ff-a751b2414662"
      },
      "execution_count": 26,
      "outputs": [
        {
          "output_type": "execute_result",
          "data": {
            "text/plain": [
              "0.0"
            ]
          },
          "metadata": {},
          "execution_count": 26
        }
      ]
    },
    {
      "cell_type": "code",
      "source": [
        "data.max()"
      ],
      "metadata": {
        "colab": {
          "base_uri": "https://localhost:8080/"
        },
        "id": "K85W3J8O90nb",
        "outputId": "99c416d1-d2c9-4462-87e3-0c91ea6a78f0"
      },
      "execution_count": 27,
      "outputs": [
        {
          "output_type": "execute_result",
          "data": {
            "text/plain": [
              "1.0"
            ]
          },
          "metadata": {},
          "execution_count": 27
        }
      ]
    },
    {
      "cell_type": "code",
      "source": [
        "data[0]"
      ],
      "metadata": {
        "colab": {
          "base_uri": "https://localhost:8080/"
        },
        "id": "pF2y_Jo-99ss",
        "outputId": "56c313a7-df48-42ee-edf2-a8b59b2d04fa"
      },
      "execution_count": 28,
      "outputs": [
        {
          "output_type": "execute_result",
          "data": {
            "text/plain": [
              "array([0.    , 0.    , 0.3125, 0.8125, 0.5625, 0.0625, 0.    , 0.    ,\n",
              "       0.    , 0.    , 0.8125, 0.9375, 0.625 , 0.9375, 0.3125, 0.    ,\n",
              "       0.    , 0.1875, 0.9375, 0.125 , 0.    , 0.6875, 0.5   , 0.    ,\n",
              "       0.    , 0.25  , 0.75  , 0.    , 0.    , 0.5   , 0.5   , 0.    ,\n",
              "       0.    , 0.3125, 0.5   , 0.    , 0.    , 0.5625, 0.5   , 0.    ,\n",
              "       0.    , 0.25  , 0.6875, 0.    , 0.0625, 0.75  , 0.4375, 0.    ,\n",
              "       0.    , 0.125 , 0.875 , 0.3125, 0.625 , 0.75  , 0.    , 0.    ,\n",
              "       0.    , 0.    , 0.375 , 0.8125, 0.625 , 0.    , 0.    , 0.    ])"
            ]
          },
          "metadata": {},
          "execution_count": 28
        }
      ]
    },
    {
      "cell_type": "markdown",
      "source": [
        "# Define Target Variable (y) and Feature Variables (X)"
      ],
      "metadata": {
        "id": "QKE6WBVo8M5w"
      }
    },
    {
      "cell_type": "markdown",
      "source": [
        "# Train Test Split"
      ],
      "metadata": {
        "id": "1yTtkIya8Ovr"
      }
    },
    {
      "cell_type": "code",
      "source": [
        "from sklearn.model_selection import train_test_split"
      ],
      "metadata": {
        "id": "-rtkYwdA997w"
      },
      "execution_count": 29,
      "outputs": []
    },
    {
      "cell_type": "code",
      "source": [
        "x_train, x_test, y_train , y_test = train_test_split(data,df.target,test_size=0.3)"
      ],
      "metadata": {
        "id": "ZhLulfta-mFA"
      },
      "execution_count": 30,
      "outputs": []
    },
    {
      "cell_type": "code",
      "source": [
        "x_train.shape , x_test.shape , y_train.shape, y_test.shape"
      ],
      "metadata": {
        "colab": {
          "base_uri": "https://localhost:8080/"
        },
        "id": "NhpGyJdi-mGw",
        "outputId": "61b4a255-3ddb-48b1-d429-7fd77f46c046"
      },
      "execution_count": 31,
      "outputs": [
        {
          "output_type": "execute_result",
          "data": {
            "text/plain": [
              "((1257, 64), (540, 64), (1257,), (540,))"
            ]
          },
          "metadata": {},
          "execution_count": 31
        }
      ]
    },
    {
      "cell_type": "markdown",
      "source": [
        "# Modeling"
      ],
      "metadata": {
        "id": "jq7M11G18TMU"
      }
    },
    {
      "cell_type": "markdown",
      "source": [
        "**Random Forest**"
      ],
      "metadata": {
        "id": "i90yI61r_Njk"
      }
    },
    {
      "cell_type": "code",
      "source": [
        "from sklearn.ensemble import RandomForestClassifier"
      ],
      "metadata": {
        "id": "Vh6DJREc-mId"
      },
      "execution_count": 32,
      "outputs": []
    },
    {
      "cell_type": "code",
      "source": [
        "rf = RandomForestClassifier()"
      ],
      "metadata": {
        "id": "P0ZuCks0-mKA"
      },
      "execution_count": 39,
      "outputs": []
    },
    {
      "cell_type": "markdown",
      "source": [
        "# Model Evaluation"
      ],
      "metadata": {
        "id": "IrmvgJ9l8V82"
      }
    },
    {
      "cell_type": "code",
      "source": [
        "rf.fit(x_train , y_train)"
      ],
      "metadata": {
        "colab": {
          "base_uri": "https://localhost:8080/",
          "height": 74
        },
        "id": "v1sW56VC-mNa",
        "outputId": "e49d467f-7025-4692-96dc-263abf442861"
      },
      "execution_count": 40,
      "outputs": [
        {
          "output_type": "execute_result",
          "data": {
            "text/plain": [
              "RandomForestClassifier()"
            ],
            "text/html": [
              "<style>#sk-container-id-1 {color: black;background-color: white;}#sk-container-id-1 pre{padding: 0;}#sk-container-id-1 div.sk-toggleable {background-color: white;}#sk-container-id-1 label.sk-toggleable__label {cursor: pointer;display: block;width: 100%;margin-bottom: 0;padding: 0.3em;box-sizing: border-box;text-align: center;}#sk-container-id-1 label.sk-toggleable__label-arrow:before {content: \"▸\";float: left;margin-right: 0.25em;color: #696969;}#sk-container-id-1 label.sk-toggleable__label-arrow:hover:before {color: black;}#sk-container-id-1 div.sk-estimator:hover label.sk-toggleable__label-arrow:before {color: black;}#sk-container-id-1 div.sk-toggleable__content {max-height: 0;max-width: 0;overflow: hidden;text-align: left;background-color: #f0f8ff;}#sk-container-id-1 div.sk-toggleable__content pre {margin: 0.2em;color: black;border-radius: 0.25em;background-color: #f0f8ff;}#sk-container-id-1 input.sk-toggleable__control:checked~div.sk-toggleable__content {max-height: 200px;max-width: 100%;overflow: auto;}#sk-container-id-1 input.sk-toggleable__control:checked~label.sk-toggleable__label-arrow:before {content: \"▾\";}#sk-container-id-1 div.sk-estimator input.sk-toggleable__control:checked~label.sk-toggleable__label {background-color: #d4ebff;}#sk-container-id-1 div.sk-label input.sk-toggleable__control:checked~label.sk-toggleable__label {background-color: #d4ebff;}#sk-container-id-1 input.sk-hidden--visually {border: 0;clip: rect(1px 1px 1px 1px);clip: rect(1px, 1px, 1px, 1px);height: 1px;margin: -1px;overflow: hidden;padding: 0;position: absolute;width: 1px;}#sk-container-id-1 div.sk-estimator {font-family: monospace;background-color: #f0f8ff;border: 1px dotted black;border-radius: 0.25em;box-sizing: border-box;margin-bottom: 0.5em;}#sk-container-id-1 div.sk-estimator:hover {background-color: #d4ebff;}#sk-container-id-1 div.sk-parallel-item::after {content: \"\";width: 100%;border-bottom: 1px solid gray;flex-grow: 1;}#sk-container-id-1 div.sk-label:hover label.sk-toggleable__label {background-color: #d4ebff;}#sk-container-id-1 div.sk-serial::before {content: \"\";position: absolute;border-left: 1px solid gray;box-sizing: border-box;top: 0;bottom: 0;left: 50%;z-index: 0;}#sk-container-id-1 div.sk-serial {display: flex;flex-direction: column;align-items: center;background-color: white;padding-right: 0.2em;padding-left: 0.2em;position: relative;}#sk-container-id-1 div.sk-item {position: relative;z-index: 1;}#sk-container-id-1 div.sk-parallel {display: flex;align-items: stretch;justify-content: center;background-color: white;position: relative;}#sk-container-id-1 div.sk-item::before, #sk-container-id-1 div.sk-parallel-item::before {content: \"\";position: absolute;border-left: 1px solid gray;box-sizing: border-box;top: 0;bottom: 0;left: 50%;z-index: -1;}#sk-container-id-1 div.sk-parallel-item {display: flex;flex-direction: column;z-index: 1;position: relative;background-color: white;}#sk-container-id-1 div.sk-parallel-item:first-child::after {align-self: flex-end;width: 50%;}#sk-container-id-1 div.sk-parallel-item:last-child::after {align-self: flex-start;width: 50%;}#sk-container-id-1 div.sk-parallel-item:only-child::after {width: 0;}#sk-container-id-1 div.sk-dashed-wrapped {border: 1px dashed gray;margin: 0 0.4em 0.5em 0.4em;box-sizing: border-box;padding-bottom: 0.4em;background-color: white;}#sk-container-id-1 div.sk-label label {font-family: monospace;font-weight: bold;display: inline-block;line-height: 1.2em;}#sk-container-id-1 div.sk-label-container {text-align: center;}#sk-container-id-1 div.sk-container {/* jupyter's `normalize.less` sets `[hidden] { display: none; }` but bootstrap.min.css set `[hidden] { display: none !important; }` so we also need the `!important` here to be able to override the default hidden behavior on the sphinx rendered scikit-learn.org. See: https://github.com/scikit-learn/scikit-learn/issues/21755 */display: inline-block !important;position: relative;}#sk-container-id-1 div.sk-text-repr-fallback {display: none;}</style><div id=\"sk-container-id-1\" class=\"sk-top-container\"><div class=\"sk-text-repr-fallback\"><pre>RandomForestClassifier()</pre><b>In a Jupyter environment, please rerun this cell to show the HTML representation or trust the notebook. <br />On GitHub, the HTML representation is unable to render, please try loading this page with nbviewer.org.</b></div><div class=\"sk-container\" hidden><div class=\"sk-item\"><div class=\"sk-estimator sk-toggleable\"><input class=\"sk-toggleable__control sk-hidden--visually\" id=\"sk-estimator-id-1\" type=\"checkbox\" checked><label for=\"sk-estimator-id-1\" class=\"sk-toggleable__label sk-toggleable__label-arrow\">RandomForestClassifier</label><div class=\"sk-toggleable__content\"><pre>RandomForestClassifier()</pre></div></div></div></div></div>"
            ]
          },
          "metadata": {},
          "execution_count": 40
        }
      ]
    },
    {
      "cell_type": "markdown",
      "source": [
        "# Prediction"
      ],
      "metadata": {
        "id": "8U72LAUW8WI9"
      }
    },
    {
      "cell_type": "code",
      "source": [
        "y_pred = rf.predict(x_test)"
      ],
      "metadata": {
        "id": "6ITBB1Wa-mSl"
      },
      "execution_count": 41,
      "outputs": []
    },
    {
      "cell_type": "code",
      "source": [
        "y_pred"
      ],
      "metadata": {
        "colab": {
          "base_uri": "https://localhost:8080/"
        },
        "id": "5D7ZnQ0LAOLL",
        "outputId": "9f7f0170-4aaf-4b65-e798-414cd5b0f279"
      },
      "execution_count": 42,
      "outputs": [
        {
          "output_type": "execute_result",
          "data": {
            "text/plain": [
              "array([1, 8, 1, 3, 9, 1, 2, 0, 5, 2, 2, 5, 8, 0, 5, 7, 8, 2, 5, 4, 4, 8,\n",
              "       6, 7, 2, 6, 8, 1, 9, 3, 6, 9, 1, 3, 7, 7, 7, 6, 4, 4, 1, 1, 0, 8,\n",
              "       7, 1, 9, 9, 9, 2, 6, 9, 7, 0, 2, 5, 4, 1, 2, 1, 3, 3, 5, 7, 2, 6,\n",
              "       2, 1, 7, 1, 7, 8, 5, 8, 2, 6, 7, 5, 4, 1, 9, 5, 8, 9, 7, 4, 0, 7,\n",
              "       9, 3, 4, 7, 4, 1, 9, 1, 0, 0, 9, 0, 0, 4, 9, 8, 4, 6, 3, 5, 5, 8,\n",
              "       9, 0, 7, 8, 8, 7, 9, 1, 8, 4, 4, 4, 8, 2, 5, 7, 9, 3, 5, 8, 5, 2,\n",
              "       5, 9, 4, 3, 1, 9, 7, 3, 2, 3, 1, 6, 2, 6, 9, 8, 4, 8, 1, 4, 7, 3,\n",
              "       7, 9, 7, 1, 8, 8, 5, 6, 0, 5, 0, 3, 4, 0, 3, 9, 8, 3, 3, 2, 4, 7,\n",
              "       3, 3, 9, 6, 1, 0, 5, 6, 1, 5, 1, 9, 1, 6, 9, 6, 7, 0, 6, 5, 0, 3,\n",
              "       7, 4, 1, 0, 8, 1, 6, 4, 1, 9, 6, 7, 2, 6, 8, 3, 6, 2, 7, 1, 1, 1,\n",
              "       8, 2, 8, 6, 9, 0, 4, 8, 4, 3, 9, 3, 3, 5, 4, 7, 7, 3, 5, 8, 9, 5,\n",
              "       1, 1, 1, 8, 9, 9, 1, 1, 7, 2, 8, 9, 2, 0, 2, 0, 9, 5, 4, 1, 3, 1,\n",
              "       6, 3, 3, 4, 5, 1, 5, 7, 2, 9, 4, 6, 1, 1, 6, 2, 1, 7, 7, 2, 3, 0,\n",
              "       7, 9, 5, 1, 7, 2, 9, 5, 5, 2, 5, 1, 3, 3, 8, 5, 7, 0, 7, 3, 0, 2,\n",
              "       1, 1, 9, 5, 5, 7, 9, 6, 2, 1, 6, 2, 5, 8, 4, 6, 7, 1, 5, 5, 9, 6,\n",
              "       7, 0, 6, 5, 6, 8, 2, 9, 8, 6, 4, 5, 8, 6, 8, 3, 4, 7, 9, 0, 6, 0,\n",
              "       2, 1, 1, 7, 5, 8, 9, 6, 3, 2, 4, 6, 8, 5, 1, 1, 5, 6, 8, 3, 7, 3,\n",
              "       4, 4, 0, 4, 0, 3, 3, 1, 8, 5, 5, 3, 3, 7, 2, 7, 7, 1, 2, 6, 4, 2,\n",
              "       5, 2, 1, 7, 4, 0, 3, 1, 5, 4, 4, 3, 9, 8, 5, 6, 3, 9, 9, 0, 2, 5,\n",
              "       0, 3, 7, 6, 4, 6, 3, 7, 3, 2, 6, 0, 7, 2, 6, 9, 0, 0, 1, 6, 1, 5,\n",
              "       7, 8, 2, 2, 4, 4, 1, 5, 3, 5, 3, 7, 1, 0, 1, 2, 2, 9, 5, 9, 0, 8,\n",
              "       3, 7, 1, 2, 7, 5, 3, 9, 4, 6, 7, 6, 7, 2, 5, 5, 2, 6, 4, 2, 9, 6,\n",
              "       9, 0, 3, 4, 0, 8, 7, 5, 6, 8, 8, 0, 0, 8, 5, 4, 6, 9, 0, 5, 9, 8,\n",
              "       7, 3, 8, 6, 7, 3, 8, 1, 1, 6, 6, 8, 4, 5, 4, 5, 8, 7, 2, 9, 5, 5,\n",
              "       5, 8, 0, 5, 9, 0, 0, 9, 7, 1, 2, 0])"
            ]
          },
          "metadata": {},
          "execution_count": 42
        }
      ]
    },
    {
      "cell_type": "markdown",
      "source": [
        "# Accuracy"
      ],
      "metadata": {
        "id": "infik3zLBq4S"
      }
    },
    {
      "cell_type": "code",
      "source": [
        "from sklearn.metrics import confusion_matrix , classification_report"
      ],
      "metadata": {
        "id": "VZaT3FHNAONU"
      },
      "execution_count": 45,
      "outputs": []
    },
    {
      "cell_type": "code",
      "source": [
        "confusion_matrix(y_test, y_pred)"
      ],
      "metadata": {
        "colab": {
          "base_uri": "https://localhost:8080/"
        },
        "id": "YsypefBKAOQs",
        "outputId": "cf2ca63b-18de-41bc-ba7d-582983bd25a0"
      },
      "execution_count": 46,
      "outputs": [
        {
          "output_type": "execute_result",
          "data": {
            "text/plain": [
              "array([[44,  0,  0,  0,  0,  0,  0,  0,  0,  0],\n",
              "       [ 0, 63,  0,  0,  0,  0,  0,  0,  0,  0],\n",
              "       [ 1,  0, 50,  0,  0,  0,  0,  0,  0,  0],\n",
              "       [ 0,  0,  0, 52,  0,  1,  0,  1,  0,  0],\n",
              "       [ 0,  0,  0,  0, 46,  0,  0,  0,  0,  0],\n",
              "       [ 0,  0,  0,  0,  0, 61,  1,  0,  0,  1],\n",
              "       [ 0,  0,  0,  0,  0,  0, 51,  0,  0,  0],\n",
              "       [ 0,  0,  0,  0,  0,  0,  0, 59,  0,  0],\n",
              "       [ 0,  0,  0,  0,  0,  0,  0,  0, 52,  1],\n",
              "       [ 0,  1,  0,  0,  1,  1,  0,  0,  0, 53]])"
            ]
          },
          "metadata": {},
          "execution_count": 46
        }
      ]
    },
    {
      "cell_type": "code",
      "source": [
        "print (classification_report(y_test , y_pred))"
      ],
      "metadata": {
        "colab": {
          "base_uri": "https://localhost:8080/"
        },
        "id": "6lMwxo7GAsCH",
        "outputId": "0276827d-9b6b-42a0-e1d7-8c4aa4db88e9"
      },
      "execution_count": 47,
      "outputs": [
        {
          "output_type": "stream",
          "name": "stdout",
          "text": [
            "              precision    recall  f1-score   support\n",
            "\n",
            "           0       0.98      1.00      0.99        44\n",
            "           1       0.98      1.00      0.99        63\n",
            "           2       1.00      0.98      0.99        51\n",
            "           3       1.00      0.96      0.98        54\n",
            "           4       0.98      1.00      0.99        46\n",
            "           5       0.97      0.97      0.97        63\n",
            "           6       0.98      1.00      0.99        51\n",
            "           7       0.98      1.00      0.99        59\n",
            "           8       1.00      0.98      0.99        53\n",
            "           9       0.96      0.95      0.95        56\n",
            "\n",
            "    accuracy                           0.98       540\n",
            "   macro avg       0.98      0.98      0.98       540\n",
            "weighted avg       0.98      0.98      0.98       540\n",
            "\n"
          ]
        }
      ]
    }
  ]
}